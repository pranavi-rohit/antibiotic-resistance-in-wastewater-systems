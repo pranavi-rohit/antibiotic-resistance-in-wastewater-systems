{
  "nbformat": 4,
  "nbformat_minor": 0,
  "metadata": {
    "accelerator": "TPU",
    "colab": {
      "provenance": [],
      "collapsed_sections": [
        "qoHX0Me8x_Rt",
        "awWzsK5Hq6qE",
        "4eFA2worMy5N",
        "GNDZlDS8NSzh",
        "RBDA-xiomdpH",
        "5OWtNMBPNXgx",
        "ROJp4MChMnyC",
        "AcRAvGIucwLk",
        "-TRqsBtH0dMS",
        "ZPJ4OXAveiIG",
        "w-ExPvpTPbVG"
      ],
      "machine_shape": "hm",
      "include_colab_link": true
    },
    "kernelspec": {
      "display_name": "Python 3",
      "name": "python3"
    },
    "language_info": {
      "name": "python"
    }
  },
  "cells": [
    {
      "cell_type": "markdown",
      "metadata": {
        "id": "view-in-github",
        "colab_type": "text"
      },
      "source": [
        "<a href=\"https://colab.research.google.com/github/pranavi-rohit/antibiotic-resistance-in-wastewater-systems/blob/main/antibiotic_variation_model.ipynb\" target=\"_parent\"><img src=\"https://colab.research.google.com/assets/colab-badge.svg\" alt=\"Open In Colab\"/></a>"
      ]
    },
    {
      "cell_type": "markdown",
      "metadata": {
        "id": "qoHX0Me8x_Rt"
      },
      "source": [
        "# Initialization\n",
        "This block of code installs the Mesa library.\n",
        "\n",
        "<font color = \"green\">*This code is acquired.*"
      ]
    },
    {
      "cell_type": "code",
      "metadata": {
        "colab": {
          "base_uri": "https://localhost:8080/"
        },
        "id": "6830k00Yx2Kr",
        "outputId": "3649db7f-e21c-45db-f9e7-8370d345df8f"
      },
      "source": [
        "!pip install mesa"
      ],
      "execution_count": null,
      "outputs": [
        {
          "output_type": "stream",
          "text": [
            "Requirement already satisfied: mesa in /usr/local/lib/python3.7/dist-packages (0.8.9)\n",
            "Requirement already satisfied: click in /usr/local/lib/python3.7/dist-packages (from mesa) (7.1.2)\n",
            "Requirement already satisfied: cookiecutter in /usr/local/lib/python3.7/dist-packages (from mesa) (1.7.3)\n",
            "Requirement already satisfied: networkx in /usr/local/lib/python3.7/dist-packages (from mesa) (2.5.1)\n",
            "Requirement already satisfied: pandas in /usr/local/lib/python3.7/dist-packages (from mesa) (1.1.5)\n",
            "Requirement already satisfied: numpy in /usr/local/lib/python3.7/dist-packages (from mesa) (1.19.5)\n",
            "Requirement already satisfied: tqdm in /usr/local/lib/python3.7/dist-packages (from mesa) (4.41.1)\n",
            "Requirement already satisfied: tornado in /usr/local/lib/python3.7/dist-packages (from mesa) (5.1.1)\n",
            "Requirement already satisfied: jinja2-time>=0.2.0 in /usr/local/lib/python3.7/dist-packages (from cookiecutter->mesa) (0.2.0)\n",
            "Requirement already satisfied: binaryornot>=0.4.4 in /usr/local/lib/python3.7/dist-packages (from cookiecutter->mesa) (0.4.4)\n",
            "Requirement already satisfied: requests>=2.23.0 in /usr/local/lib/python3.7/dist-packages (from cookiecutter->mesa) (2.23.0)\n",
            "Requirement already satisfied: six>=1.10 in /usr/local/lib/python3.7/dist-packages (from cookiecutter->mesa) (1.15.0)\n",
            "Requirement already satisfied: python-slugify>=4.0.0 in /usr/local/lib/python3.7/dist-packages (from cookiecutter->mesa) (5.0.2)\n",
            "Requirement already satisfied: poyo>=0.5.0 in /usr/local/lib/python3.7/dist-packages (from cookiecutter->mesa) (0.5.0)\n",
            "Requirement already satisfied: Jinja2<4.0.0,>=2.7 in /usr/local/lib/python3.7/dist-packages (from cookiecutter->mesa) (2.11.3)\n",
            "Requirement already satisfied: chardet>=3.0.2 in /usr/local/lib/python3.7/dist-packages (from binaryornot>=0.4.4->cookiecutter->mesa) (3.0.4)\n",
            "Requirement already satisfied: MarkupSafe>=0.23 in /usr/local/lib/python3.7/dist-packages (from Jinja2<4.0.0,>=2.7->cookiecutter->mesa) (2.0.1)\n",
            "Requirement already satisfied: arrow in /usr/local/lib/python3.7/dist-packages (from jinja2-time>=0.2.0->cookiecutter->mesa) (1.1.1)\n",
            "Requirement already satisfied: text-unidecode>=1.3 in /usr/local/lib/python3.7/dist-packages (from python-slugify>=4.0.0->cookiecutter->mesa) (1.3)\n",
            "Requirement already satisfied: certifi>=2017.4.17 in /usr/local/lib/python3.7/dist-packages (from requests>=2.23.0->cookiecutter->mesa) (2021.5.30)\n",
            "Requirement already satisfied: urllib3!=1.25.0,!=1.25.1,<1.26,>=1.21.1 in /usr/local/lib/python3.7/dist-packages (from requests>=2.23.0->cookiecutter->mesa) (1.24.3)\n",
            "Requirement already satisfied: idna<3,>=2.5 in /usr/local/lib/python3.7/dist-packages (from requests>=2.23.0->cookiecutter->mesa) (2.10)\n",
            "Requirement already satisfied: typing-extensions in /usr/local/lib/python3.7/dist-packages (from arrow->jinja2-time>=0.2.0->cookiecutter->mesa) (3.7.4.3)\n",
            "Requirement already satisfied: python-dateutil>=2.7.0 in /usr/local/lib/python3.7/dist-packages (from arrow->jinja2-time>=0.2.0->cookiecutter->mesa) (2.8.1)\n",
            "Requirement already satisfied: decorator<5,>=4.3 in /usr/local/lib/python3.7/dist-packages (from networkx->mesa) (4.4.2)\n",
            "Requirement already satisfied: pytz>=2017.2 in /usr/local/lib/python3.7/dist-packages (from pandas->mesa) (2018.9)\n"
          ],
          "name": "stdout"
        }
      ]
    },
    {
      "cell_type": "markdown",
      "metadata": {
        "id": "QtwLIbEES2IO"
      },
      "source": [
        "Other calls initialize essential functions within Mesa that are neccessary for the program to run.\n",
        "\n",
        "<font color = \"green\">*This code is acquired.*"
      ]
    },
    {
      "cell_type": "code",
      "metadata": {
        "id": "_ceK-by6OEzz"
      },
      "source": [
        "from mesa import Agent, Model\n",
        "from mesa.time import RandomActivation\n",
        "from mesa.space import MultiGrid\n",
        "from mesa.datacollection import DataCollector\n",
        "from mesa.visualization.ModularVisualization import ModularServer\n",
        "from mesa.visualization.modules import CanvasGrid\n",
        "from mesa.batchrunner import BatchRunner"
      ],
      "execution_count": null,
      "outputs": []
    },
    {
      "cell_type": "code",
      "metadata": {
        "colab": {
          "base_uri": "https://localhost:8080/"
        },
        "id": "AjGpjl-N5kjt",
        "outputId": "958a2e8c-31cd-4a2c-bf30-a7e4d67c5ffe"
      },
      "source": [
        "from google.colab import drive\n",
        "drive.mount(\"drive\")"
      ],
      "execution_count": null,
      "outputs": [
        {
          "output_type": "stream",
          "text": [
            "Drive already mounted at drive; to attempt to forcibly remount, call drive.mount(\"drive\", force_remount=True).\n"
          ],
          "name": "stdout"
        }
      ]
    },
    {
      "cell_type": "markdown",
      "metadata": {
        "id": "C7MCBhsrTAHA"
      },
      "source": [
        "Libraries such as matplotlib, seaborn, random, and numpy are added.\n",
        "\n",
        "<font color = \"green\">*This code is acquired.*"
      ]
    },
    {
      "cell_type": "code",
      "metadata": {
        "id": "OzW5vUAL4j-C"
      },
      "source": [
        "import matplotlib.pyplot as plt"
      ],
      "execution_count": null,
      "outputs": []
    },
    {
      "cell_type": "code",
      "metadata": {
        "id": "Vgep8IA3XD5c"
      },
      "source": [
        "import seaborn as sns"
      ],
      "execution_count": null,
      "outputs": []
    },
    {
      "cell_type": "code",
      "metadata": {
        "id": "hYsScLJCs3hh"
      },
      "source": [
        "import random\n",
        "import numpy as np"
      ],
      "execution_count": null,
      "outputs": []
    },
    {
      "cell_type": "markdown",
      "metadata": {
        "id": "awWzsK5Hq6qE"
      },
      "source": [
        "# Data Collection\n",
        "The majority of this section consists of functions expressing raw model values as different measures of interest."
      ]
    },
    {
      "cell_type": "code",
      "metadata": {
        "id": "ttecKAFS6hDf"
      },
      "source": [
        "def hgt_c(model):\n",
        "  agent_hgt_c = [agent.hgt_c for agent in model.schedule.agents]\n",
        "  return np.sum(agent_hgt_c)"
      ],
      "execution_count": null,
      "outputs": []
    },
    {
      "cell_type": "markdown",
      "metadata": {
        "id": "4eFA2worMy5N"
      },
      "source": [
        "## Bacterial Death\n",
        "These functions calculate bacterial death in various contexts using model data."
      ]
    },
    {
      "cell_type": "markdown",
      "metadata": {
        "id": "VobZmX1nJEMd"
      },
      "source": [
        "The `bact_kll_gen_all` function calculates the rates of bacteria killed, out of all the bacteria present at any point throughout the wastewater system.\n",
        "\n"
      ]
    },
    {
      "cell_type": "code",
      "metadata": {
        "id": "dKTjCq8bM_vS"
      },
      "source": [
        "def bact_kll_gen_all(model):\n",
        "  percent_bkg_a = (model.dead_bact / model.max_agent_id) * 100\n",
        "  # print(percent_bkg_a)\n",
        "  return percent_bkg_a\n",
        "  # decimal_bkg_a = model.dead_bact / model.max_agent_id\n",
        "  # percent_bkg_a = decimal_bkg_a * 100"
      ],
      "execution_count": null,
      "outputs": []
    },
    {
      "cell_type": "markdown",
      "metadata": {
        "id": "-jDvUNPkMa9r"
      },
      "source": [
        "The `bact_kll_gen_last_pop` function calculates the rates of bacteria killed, out of the total bacterial population in the wastewater system (at the end of the last hour)."
      ]
    },
    {
      "cell_type": "code",
      "metadata": {
        "id": "R6FYrdYPLX2V"
      },
      "source": [
        "def bact_kll_gen_last_pop(model):\n",
        "  decimal_bkg_lp = model.dead_bact / model.population_total\n",
        "  percent_bkg_lp = decimal_bkg_lp * 100"
      ],
      "execution_count": null,
      "outputs": []
    },
    {
      "cell_type": "markdown",
      "metadata": {
        "id": "GNDZlDS8NSzh"
      },
      "source": [
        "### Antibiotic Residue\n",
        "The `bact_kll_abr_dead` function calculates what percent of deaths (assuming the value for all bacterial deaths is 100%) are caused by both antibiotics."
      ]
    },
    {
      "cell_type": "code",
      "metadata": {
        "id": "NBu-7ttgNWj3"
      },
      "source": [
        "def bact_kll_abr_dead(model):\n",
        "  bact_death_abr = model.death_abr1 + model.death_abr2\n",
        "  percent_bka_d = (bact_death_abr / model.dead_bact) * 100\n",
        "  return percent_bka_d"
      ],
      "execution_count": null,
      "outputs": []
    },
    {
      "cell_type": "markdown",
      "metadata": {
        "id": "fA_23gseloTA"
      },
      "source": [
        "#### All\n",
        "The `bact_kll_abr_all` function calculates what percent of deaths out of the entire model population are caused by both antibiotics."
      ]
    },
    {
      "cell_type": "code",
      "metadata": {
        "id": "4dB1ULwEli3O"
      },
      "source": [
        "def bact_kll_abr_all(model):\n",
        "  bact_death_abr = model.death_abr1 + model.death_abr2\n",
        "  percent_bka_a = (bact_death_abr / model.population_total) * 100\n",
        "  return percent_bka_a"
      ],
      "execution_count": null,
      "outputs": []
    },
    {
      "cell_type": "markdown",
      "metadata": {
        "id": "Qclb8zI5oYXx"
      },
      "source": [
        "The `bact_kll_abr_all` function calculates what percent of agents dead from either antibiotic 1 were susceptible, resistant to one antibiotic, or resistant to both."
      ]
    },
    {
      "cell_type": "code",
      "metadata": {
        "id": "id29xbPPoXlS"
      },
      "source": [
        "# Out of agents killed by antibiotics, what percent were susceptible, resistant to one antibiotic, or resistant to both."
      ],
      "execution_count": null,
      "outputs": []
    },
    {
      "cell_type": "markdown",
      "metadata": {
        "id": "sI9VBModmdSU"
      },
      "source": [
        "#### Antibiotic 1\n",
        "The `bact_kll_abr1_all` function calculates what percent of deaths out of the entire model population are caused by antibiotic 1."
      ]
    },
    {
      "cell_type": "code",
      "metadata": {
        "id": "YLyMUlRxl9MB"
      },
      "source": [
        "def bact_kll_abr1_all(model):\n",
        "  percent_bka1_a = (model.death_abr1 / model.population_total) * 100\n",
        "  return percent_bka1_a"
      ],
      "execution_count": null,
      "outputs": []
    },
    {
      "cell_type": "markdown",
      "metadata": {
        "id": "438gbSQXook2"
      },
      "source": [
        "The `bact_kll_abr_all` function calculates what percent of agents dead from antibiotic 1 were susceptible, resistant to one antibiotic, or resistant to both."
      ]
    },
    {
      "cell_type": "code",
      "metadata": {
        "id": "-MSwV3WVn9MO"
      },
      "source": [
        "# Out of agents killed by antibiotic 1, what percent were susceptible, resistant to one antibiotic, or resistant to both."
      ],
      "execution_count": null,
      "outputs": []
    },
    {
      "cell_type": "markdown",
      "metadata": {
        "id": "RBDA-xiomdpH"
      },
      "source": [
        "#### Antibiotic 2\n",
        "The `bact_kll_abr2_all` function calculates what percent of deaths out of the entire model population are caused by antibiotic 2."
      ]
    },
    {
      "cell_type": "code",
      "metadata": {
        "id": "O6rNfc8EmMgX"
      },
      "source": [
        "def bact_kll_abr1_all(model):\n",
        "  percent_bka2_a = (model.death_abr2 / model.population_total) * 100\n",
        "  return percent_bka2_a"
      ],
      "execution_count": null,
      "outputs": []
    },
    {
      "cell_type": "markdown",
      "metadata": {
        "id": "paDif47Eo82J"
      },
      "source": [
        "The `bact_kll_abr_all` function calculates what percent of agents dead from antibiotic 2 were susceptible, resistant to one antibiotic, or resistant to both."
      ]
    },
    {
      "cell_type": "code",
      "metadata": {
        "id": "5-jm_3Jrn9r6"
      },
      "source": [
        "# Out of agents killed by antibiotic 2, what percent were susceptible, resistant to one antibiotic, or resistant to both."
      ],
      "execution_count": null,
      "outputs": []
    },
    {
      "cell_type": "markdown",
      "metadata": {
        "id": "5OWtNMBPNXgx"
      },
      "source": [
        "### Natural Processes"
      ]
    },
    {
      "cell_type": "code",
      "metadata": {
        "id": "4z2D-1ItNafE"
      },
      "source": [
        "def bact_kll_ntrl_all(model):\n",
        "  percent_bkn_a = (model.death_ntrl / model.max_agent_id) * 100\n",
        "  return percent_bkn_a"
      ],
      "execution_count": null,
      "outputs": []
    },
    {
      "cell_type": "markdown",
      "metadata": {
        "id": "ROJp4MChMnyC"
      },
      "source": [
        "## Resistant Bacterial Growth"
      ]
    },
    {
      "cell_type": "code",
      "metadata": {
        "id": "K9d-M0srLZKL"
      },
      "source": [
        "def abr_bact_last_pop(model):\n",
        "  abr_pop = 0\n",
        "  for agent in model.schedule.agents:\n",
        "    if agent.abr1 == 1 or agent.abr2 == 1:\n",
        "      abr_pop += 1\n",
        "  percent_ab_lp = (abr_pop / model.population_total) * 100\n",
        "  return percent_ab_lp"
      ],
      "execution_count": null,
      "outputs": []
    },
    {
      "cell_type": "markdown",
      "metadata": {
        "id": "AcRAvGIucwLk"
      },
      "source": [
        "## Population Comparisons"
      ]
    },
    {
      "cell_type": "markdown",
      "metadata": {
        "id": "hkb-qSL1dYNN"
      },
      "source": [
        "### Initial Proportions"
      ]
    },
    {
      "cell_type": "code",
      "metadata": {
        "id": "MtU5tzJmdYNN"
      },
      "source": [
        "def susc_bact_last_pop(model):\n",
        "  susc_pop = 0\n",
        "  for agent in model.schedule.agents:\n",
        "    if agent.abr1 == 0 and agent.abr2 == 0:\n",
        "      susc_pop += 1\n",
        "\n",
        "  percent_sb_lp = (susc_pop / model.population_total) * 100\n",
        "  return percent_sb_lp"
      ],
      "execution_count": null,
      "outputs": []
    },
    {
      "cell_type": "code",
      "metadata": {
        "id": "UgS5pfV1dYNN"
      },
      "source": [
        "def abr1_o_bact_last_pop(model):\n",
        "  abr1_o_pop = 0\n",
        "  for agent in model.schedule.agents:\n",
        "    if agent.abr1 == 1 and agent.abr2 == 0:\n",
        "      abr1_o_pop += 1\n",
        "\n",
        "  percent_a1b_lp = (abr1_o_pop / model.population_total) * 100\n",
        "  return percent_a1b_lp"
      ],
      "execution_count": null,
      "outputs": []
    },
    {
      "cell_type": "code",
      "metadata": {
        "id": "XtozqOsRdYNN"
      },
      "source": [
        "def abr2_o_bact_last_pop(model):\n",
        "  abr2_o_pop = 0\n",
        "  for agent in model.schedule.agents:\n",
        "    if agent.abr1 == 0 and agent.abr2 == 1:\n",
        "      abr2_o_pop += 1\n",
        "\n",
        "  percent_a2b_lp = (abr2_o_pop / model.population_total) * 100\n",
        "  return percent_a2b_lp"
      ],
      "execution_count": null,
      "outputs": []
    },
    {
      "cell_type": "code",
      "metadata": {
        "id": "Pz0GYS3idYNO"
      },
      "source": [
        "def abr1_abr2_bact_last_pop(model):\n",
        "  abr1_abr2_pop = 0\n",
        "  for agent in model.schedule.agents:\n",
        "    if agent.abr1 == 1 and agent.abr2 == 1:\n",
        "      abr1_abr2_pop += 1\n",
        "\n",
        "  percent_a1a2b_lp = (abr1_abr2_pop / model.population_total) * 100\n",
        "  return percent_a1a2b_lp"
      ],
      "execution_count": null,
      "outputs": []
    },
    {
      "cell_type": "markdown",
      "metadata": {
        "id": "6SRQIuD4bMm1"
      },
      "source": [
        "### Final Proportions (Graph 4)"
      ]
    },
    {
      "cell_type": "code",
      "metadata": {
        "id": "hD3KlPz_bMm2"
      },
      "source": [
        "def change_in_resistance_hgt(model):\n",
        "  hgt_resistance_counter = 0\n",
        "  for agent in model.schedule.agents:\n",
        "    if agent.hgt_c == 1:\n",
        "      hgt_resistance_counter += 1\n",
        "    elif agent.hgt_c == 2:\n",
        "      hgt_resistance_counter += 2\n",
        "\n",
        "  hgt_prop = (hgt_resistance_counter / (model.max_agent_id * 2)) * 100\n",
        "  return hgt_prop"
      ],
      "execution_count": null,
      "outputs": []
    },
    {
      "cell_type": "code",
      "metadata": {
        "id": "JWL0zFbCbMm2"
      },
      "source": [
        "def change_in_resistance_chrm(model):\n",
        "  chrm_resistance_counter = 0\n",
        "  for agent in model.schedule.agents:\n",
        "    if agent.ch_mutate == 1:\n",
        "      chrm_resistance_counter += 1\n",
        "    elif agent.ch_mutate == 2:\n",
        "      chrm_resistance_counter += 2\n",
        "\n",
        "  chrm_prop = (chrm_resistance_counter / (model.max_agent_id * 2)) * 100\n",
        "  return chrm_prop"
      ],
      "execution_count": null,
      "outputs": []
    },
    {
      "cell_type": "markdown",
      "metadata": {
        "id": "x0-jNwCCdYNO"
      },
      "source": [
        "### Graph 2"
      ]
    },
    {
      "cell_type": "code",
      "metadata": {
        "id": "6HfK1wXkpLKD"
      },
      "source": [
        "def death_susc_pop(model):\n",
        "  if model.dead_bact > 0:\n",
        "    percent_dsb_a = (model.susc_pop_death / model.dead_bact) * 100\n",
        "    return percent_dsb_a\n",
        "  else:\n",
        "    return 0"
      ],
      "execution_count": null,
      "outputs": []
    },
    {
      "cell_type": "code",
      "metadata": {
        "id": "v2wYI7QsdYNP"
      },
      "source": [
        "def death_abr1_o_pop(model):\n",
        "  if model.dead_bact > 0:\n",
        "    percent_dba1_a = (model.abr1_o_pop_death / model.dead_bact) * 100\n",
        "    return percent_dba1_a\n",
        "  else:\n",
        "    return 0"
      ],
      "execution_count": null,
      "outputs": []
    },
    {
      "cell_type": "code",
      "metadata": {
        "id": "GpFE1ztIpTq5"
      },
      "source": [
        "def death_abr2_o_pop(model):\n",
        "  if model.dead_bact > 0:\n",
        "    percent_dba2_a = (model.abr2_o_pop_death / model.dead_bact) * 100\n",
        "    return percent_dba2_a\n",
        "  else:\n",
        "    return 0"
      ],
      "execution_count": null,
      "outputs": []
    },
    {
      "cell_type": "code",
      "metadata": {
        "id": "NmPM3Ie-dYNP"
      },
      "source": [
        "def death_abr1_abr2_pop(model):\n",
        "  if model.dead_bact > 0:\n",
        "    percent_dba1a2_a = (model.abr1_abr2_pop_death / model.dead_bact) * 100\n",
        "    return percent_dba1a2_a\n",
        "  else:\n",
        "    return 0"
      ],
      "execution_count": null,
      "outputs": []
    },
    {
      "cell_type": "markdown",
      "metadata": {
        "id": "KxB7DaHaRhHW"
      },
      "source": [
        "# Classes\n",
        "This section initializes both the agents and the world associated with the model. The world represents a wastewater system (at a much smaller, but still complete scale)."
      ]
    },
    {
      "cell_type": "markdown",
      "metadata": {
        "id": "-TRqsBtH0dMS"
      },
      "source": [
        "## Agents\n",
        "\n",
        "### Properties\n",
        "The class defines an agent with various properties.\n",
        "*   `self.abr1` signfies the agent's resistance to Antibiotic 1, and `self.abr2` signfies the agent's resistance to Antibiotic 2.\n",
        "*   A value of 0 for `self.abr1` or `self.abr2` means the bacteria is susceptible to that antibiotic, while a value of 1 indicates resistance to it.\n",
        "*   Bacteria can be susceptible to both antibiotics, only one and not the other, or both.\n",
        "\n",
        "\n",
        "\n",
        "\n",
        "\n",
        "*   List item\n",
        "*   List item\n",
        "\n"
      ]
    },
    {
      "cell_type": "markdown",
      "metadata": {
        "id": "EEuaj1fJCAUw"
      },
      "source": [
        "### Bacteria\n",
        "This is the first and primary agent class within the wastewater system, and he class defines agents with various properties.\n",
        "#### Properties\n",
        "*   `self.abr1` signfies the agent's resistance to Antibiotic 1, and `self.abr2` signfies the agent's resistance to Antibiotic 2.\n",
        "*   A value of 0 for `self.abr1` or `self.abr2` means the bacteria is susceptible to that antibiotic, while a value of 1 indicates resistance to it.\n",
        "*   Bacteria can be susceptible to both antibiotics, only one and not the other, or both.\n",
        "*   An if loop (as seen below) dictates the chances a bacteria will become resistant to an antibiotic when agents are intialized.\n",
        "```\n",
        "abr1_d = random.randint(1, 101) # Assigns a random number from 1-100.\n",
        "    if abr1_d < 10: # Essentially 10% of the population can be resistant to antibiotic 1.\n",
        "      self.abr1 = 1\n",
        "    else:\n",
        "      self.abr1 = 0\n",
        "```\n",
        "\n",
        "#### Counters\n",
        "*   `self.hgt_tf`, `self.hgt_c`, and `self.hgt_td` count how many times a bacteria has recieved horizontal gene transfer through transformation, conjugation, and transduction respectively.\n",
        "*   `self.ch_mutate` tracks every time a bacteria becomes resistant to an antibiotic through mutations.\n",
        "*   `self.hours_alive` collects data on the number of hours the bacteria has lived (based on the number of model steps, as one step equals an hour).\n",
        "\n",
        "#### Functions\n",
        "*   `new_agents` is called in `reproduce` and creates new agents (bacteria) with unique IDs that mirror the properties of their parent.\n",
        "\n",
        "**Please review the rest of code to note the other functions employed.**"
      ]
    },
    {
      "cell_type": "code",
      "metadata": {
        "id": "KpasgkuL084j"
      },
      "source": [
        "class Bacteria(Agent):\n",
        "  # This is an agent with no fixed properties.\n",
        "  def __init__(self, unique_id, model):\n",
        "    super().__init__(unique_id, model)\n",
        "\n",
        "    abr1_d = random.randint(1, 101)\n",
        "    if abr1_d < 5:\n",
        "      self.abr1 = 1\n",
        "    else:\n",
        "      self.abr1 = 0\n",
        "\n",
        "    abr2_d = random.randint(1, 101)\n",
        "    if abr2_d < 5:\n",
        "      self.abr2 = 1\n",
        "    else:\n",
        "      self.abr2 = 0\n",
        "    # 0 represents no resistance to the antibiotic.\n",
        "    # 1 represents resistance to the antibiotic.\n",
        "\n",
        "    # Each of these variables serves as a counter for a bacterial condition.\n",
        "    self.hgt_tf = 0\n",
        "    self.hgt_c = 0\n",
        "    self.hgt_td = 0\n",
        "    self.ch_mutate = 0\n",
        "    self.death_cause = None\n",
        "    # self.hours_alive = 0\n",
        "\n",
        "    self.agent_pop = model.population_total\n",
        "\n",
        "  def move(self):\n",
        "    possible_steps = self.model.grid.get_neighborhood(\n",
        "        self.pos,\n",
        "        moore = True, # Includes all 8 surrounding squares.\n",
        "        include_center = True # Center cell (the agent) is considered a neighbor, which means there's a chance the agent won't move.\n",
        "    )\n",
        "    new_position = self.random.choice(possible_steps)\n",
        "    self.model.grid.move_agent(self, new_position)\n",
        "\n",
        "  def hgt_conjugation(self):\n",
        "    cellmates = self.model.grid.get_cell_list_contents([self.pos])\n",
        "    if len(cellmates) > 1: # Specifies that horizontal gene transfer can only happen to another bacteria (and therefore, doesn't mess up counts).\n",
        "      other = self.random.choice(cellmates)\n",
        "\n",
        "      while other.unique_id == self.unique_id:\n",
        "        other = self.random.choice(cellmates)\n",
        "    # Create an if-else loop here to incorporate the chance of another bacteria gaining antibiotic resistance.\n",
        "\n",
        "      hgt_c_rate = random.uniform(0.01, 0.000000001)\n",
        "      if self.abr1 == 1 and other.abr1 == 0: # The second parameter is only reqiured if horizontal gene transfer cannot be acquired multiple times.\n",
        "        hgt_c_chance = random.random()\n",
        "        if hgt_c_chance < hgt_c_rate:\n",
        "          other.hgt_c += 1\n",
        "          other.abr1 = 1\n",
        "\n",
        "      if self.abr2 == 1 and other.abr2 == 0:\n",
        "        hgt_c_chance = random.randint(1, 101)\n",
        "        if hgt_c_chance < hgt_c_rate:\n",
        "          other.hgt_c += 1\n",
        "          other.abr2 = 1\n",
        "\n",
        "  def mutate(self):\n",
        "    chr_m_rate_abr1 = 0.00000235\n",
        "    chr_m_rate_abr2 = 0.0000000235\n",
        "\n",
        "    if self.abr1 == 0:\n",
        "      chr_m_chance = random.random()\n",
        "      if chr_m_chance < chr_m_rate_abr1:\n",
        "        self.abr1 = 1\n",
        "        self.ch_mutate += 1\n",
        "\n",
        "    if self.abr2 == 0:\n",
        "      chr_m_chance = random.random()\n",
        "      if chr_m_chance < chr_m_rate_abr2:\n",
        "        self.abr2 = 1\n",
        "        self.ch_mutate += 1\n",
        "\n",
        "  def new_agents(self, num_new_agents):\n",
        "      for ii in range(num_new_agents):\n",
        "        unique_id_check = self.model.max_agent_id # Generates a unique, random ID for the agent, checking that no other agents have the same ID.\n",
        "        new_bact = Bacteria(unique_id_check, self.model) # This intializes a new agent.\n",
        "        self.model.max_agent_id += 1\n",
        "\n",
        "        # This sets agent properties equal to the parent bacteria.\n",
        "        new_bact.abr1 = self.abr1\n",
        "        new_bact.abr2 = self.abr2\n",
        "\n",
        "        self.model.grid.place_agent(new_bact, self.pos) # This initializes the new agent.\n",
        "        self.model.schedule.add(new_bact) # This adds the new agent to the scheduler.\n",
        "        model.population_total += 1 # Population of bacteria in the model now reflect a new agent being added.\n",
        "\n",
        "  def reproduce(self):\n",
        "    if model.population_total < 625000:\n",
        "      if self.abr1 == 0 and self.abr2 == 0:\n",
        "        num_new_agents = random.randint(2, 4) # Creates anywhere from 10-15 new bacteria.\n",
        "        self.new_agents(num_new_agents)\n",
        "\n",
        "      if self.abr1 == 1 and self.abr2 == 0:\n",
        "        num_new_agents = random.randint(1, 3) # Creates anywhere from 1-2 new bacteria.\n",
        "        self.new_agents(num_new_agents)\n",
        "\n",
        "      elif self.abr1 == 0 and self.abr2 == 1:\n",
        "        num_new_agents = random.randint(1, 3) # Creates anywhere from 1-2 new bacteria.\n",
        "        self.new_agents(num_new_agents)\n",
        "\n",
        "      elif self.abr1 == 1 and self.abr2 == 1:\n",
        "        num_new_agents = random.randint(1, 3) # Creates anywhere from 1-2 new bacteria.\n",
        "        self.new_agents(num_new_agents)\n",
        "  '''\n",
        "  Alternate (10)\n",
        "  '''\n",
        "\n",
        "  def bact_population(self):\n",
        "    if self.abr1 == 0 and self.abr2 == 0:\n",
        "      model.susc_pop_death += 1\n",
        "\n",
        "    if self.abr1 == 1 and self.abr2 == 0:\n",
        "      model.abr1_o_pop_death += 1\n",
        "\n",
        "    if self.abr1 == 0 and self.abr2 == 1:\n",
        "      model.abr2_o_pop_death += 1\n",
        "\n",
        "    if self.abr1 == 1 and self.abr2 == 1:\n",
        "      model.abr1_abr2_pop_death += 1\n",
        "\n",
        "  def death(self):\n",
        "    if self.abr1 == 1:\n",
        "      abr1_hf_kl = 1000 # ug/ml\n",
        "\n",
        "    elif self.abr1 == 0:\n",
        "      abr1_hf_kl = 49.1 # ug/ml\n",
        "\n",
        "    if self.abr2 == 1:\n",
        "      abr2_hf_kl = 1000 # ug/ml\n",
        "\n",
        "    elif self.abr2 == 0:\n",
        "      abr2_hf_kl = 49.1 # ug/ml\n",
        "\n",
        "  # Calculates the probability of bacterial death.\n",
        "    abr1_dc = (model.abr1_con) / (model.abr1_con + (abr1_hf_kl))\n",
        "    abr2_dc = (model.abr2_con) / (model.abr2_con + (abr2_hf_kl))\n",
        "\n",
        "    self.death_cause = None\n",
        "    abr_chance = random.randint(1, 3)\n",
        "\n",
        "    if abr_chance == 1:\n",
        "      abr1_kl = random.random()\n",
        "      if abr1_kl < abr1_dc:\n",
        "        self.model.grid._remove_agent(self.pos, self)\n",
        "        self.model.schedule.remove(self)\n",
        "\n",
        "        self.death_cause = \"Antibiotic 1\"\n",
        "        self.bact_population()\n",
        "\n",
        "        model.dead_bact += 1\n",
        "        model.death_abr1 += 1\n",
        "        model.population_total -= 1\n",
        "\n",
        "        if self.death_cause == None:\n",
        "          abr2_kl = random.random()\n",
        "          if abr2_kl < abr2_dc:\n",
        "            self.model.grid._remove_agent(self.pos, self)\n",
        "            self.model.schedule.remove(self)\n",
        "\n",
        "            self.death_cause = \"Antibiotic 2\"\n",
        "            self.bact_population()\n",
        "\n",
        "            model.dead_bact += 1\n",
        "            model.death_abr2 += 1\n",
        "            model.population_total -= 1\n",
        "\n",
        "    elif abr_chance == 2:\n",
        "      abr2_kl = random.random()\n",
        "      if abr2_kl < abr2_dc:\n",
        "        self.model.grid._remove_agent(self.pos, self)\n",
        "        self.model.schedule.remove(self)\n",
        "\n",
        "        self.death_cause = \"Antibiotic 2\"\n",
        "        self.bact_population()\n",
        "\n",
        "        model.dead_bact += 1\n",
        "        model.death_abr2 += 1\n",
        "        model.population_total -= 1\n",
        "\n",
        "        if self.death_cause == None:\n",
        "          abr1_kl = random.random()\n",
        "          if abr1_kl < abr1_dc:\n",
        "            self.model.grid._remove_agent(self.pos, self)\n",
        "            self.model.schedule.remove(self)\n",
        "\n",
        "            self.death_cause = \"Antibiotic 1\"\n",
        "            self.bact_population()\n",
        "\n",
        "            model.dead_bact += 1\n",
        "            model.death_abr1 += 1\n",
        "            model.population_total -= 1\n",
        "\n",
        "    if self.death_cause == None:\n",
        "      ntrl_d = random.random()\n",
        "      if ntrl_d < 0.004:\n",
        "        self.model.grid._remove_agent(self.pos, self)\n",
        "        self.model.schedule.remove(self)\n",
        "\n",
        "        self.death_cause = \"Natural\"\n",
        "        self.bact_population()\n",
        "\n",
        "        model.dead_bact += 1\n",
        "        model.death_ntrl += 1\n",
        "        model.population_total -= 1\n",
        "\n",
        "\n",
        "    '''\n",
        "    Alternate (4) https://colab.research.google.com/drive/1YVyG77l5fKT4HnPmSVsUd4d4Nr5Tz9At#scrollTo=W0VcTnZhGCA3&line=1&uniqifier=1\n",
        "    '''\n",
        "\n",
        "    # Agent \"dies\", disappears from world.\n",
        "    # Track how death occured.\n",
        "    # Have a counter (based on the number of model steps performed) that keeps track of how many hours a bacteria has been alive.\n",
        "  '''\n",
        "  Alternate (5)\n",
        "  Alternate (6)\n",
        "  '''\n",
        "  def step(self):\n",
        "    self.move()\n",
        "    if self.abr1 == 1 or self.abr2 == 1:\n",
        "      self.hgt_conjugation()\n",
        "\n",
        "    self.mutate()\n",
        "    self.reproduce()\n",
        "    self.death()\n",
        "\n",
        "    # self.outputs()\n",
        "    # self.hours_alive += 1\n",
        "\n",
        "    # # print(\"{} = {} + {} + {} + {} pop,     {} = {} + {} + {} death cause     {}step  {}, {} con 1, 2\".format(model.population_total,\n",
        "    #                                                                                                     model.susc_pop, model.abr1_o_pop, model.abr2_o_pop, model.abr1_abr2_pop,\n",
        "    #                                                                                                     model.dead_bact, model.death_abr1, model.death_abr2, model.death_ntrl,\n",
        "    #                                                                                                     model.step_cntr,\n",
        "    #                                                                                                     model.abr1_con, model.abr2_con))\n",
        "\n",
        "\n",
        "    # print(\"Population: {},      Death (t, a1, ar, n): {} = {} + {} + {}       Model Step: {}        ABR: {}, {}         \".format(model.population_total, model.dead_bact, model.death_abr1, model.death_abr2, model.death_ntrl, model.step_cntr, model.abr1_con, model.abr2_con))\n"
      ],
      "execution_count": null,
      "outputs": []
    },
    {
      "cell_type": "markdown",
      "metadata": {
        "id": "v5qXHrhBye2i"
      },
      "source": [
        "## World\n",
        "This begins the \"world\" class, named `Wastewater` in relation the project. It also accounts for advancing the model step by step.\n",
        "\n",
        "### Properties\n",
        "*   All global properties are congregated within this class, which apply equally to all agents within the model.\n",
        "*   `self.dead_bact`, `self.death_abr1`, `self.death_abr2`, and `self.death_ntrl` are global properties.\n",
        "\n",
        "## Grid\n",
        "A `MultiGrid` creates the spatial component of the model, allowing multiple agents to be in the same cell.\n",
        "\n"
      ]
    },
    {
      "cell_type": "code",
      "metadata": {
        "id": "dnEOmDZozlR4"
      },
      "source": [
        "class Wastewater(Model):\n",
        "  # This creates a model with N number of agents.\n",
        "  def __init__(self, N, width, height, abr1_con_m, abr2_con_m):\n",
        "    self.num_agents = N\n",
        "    self.grid = MultiGrid(width, height, True)\n",
        "    self.schedule = RandomActivation(self)\n",
        "    self.running = True\n",
        "\n",
        "    self.abr1_con = abr1_con_m\n",
        "    self.abr2_con = abr2_con_m\n",
        "    self.step_cntr = 1\n",
        "\n",
        "    self.max_agent_id = 1\n",
        "    self.population_total = 0\n",
        "    '''\n",
        "    # A population counter for different antibiotic susceptibilities.\n",
        "    self.susc_pop = 0\n",
        "    self.abr1_o_pop = 0\n",
        "    self.abr2_o_pop = 0\n",
        "    self.abr1_abr2_pop = 0\n",
        "\n",
        "    '''\n",
        "    # Categorizes the deaths of agents by their antibiotic susceptibilities.\n",
        "    self.susc_pop_death = 0\n",
        "    self.abr1_o_pop_death = 0\n",
        "    self.abr2_o_pop_death = 0\n",
        "    self.abr1_abr2_pop_death = 0\n",
        "\n",
        "    # Refers to the cause of death for each agent.\n",
        "    self.dead_bact = 0\n",
        "    self.death_abr1 = 0\n",
        "    self.death_abr2 = 0\n",
        "    self.death_ntrl = 0\n",
        "    # Define the global properties here.\n",
        "    '''\n",
        "    Alternate (9)\n",
        "    '''\n",
        "    # Add inflow and outflow rates if you're not assuming they are 0.\n",
        "    for i in range(self.num_agents):\n",
        "      agent = Bacteria(self.max_agent_id, self)\n",
        "      self.schedule.add(agent)\n",
        "      self.max_agent_id += 1\n",
        "      self.population_total += 1\n",
        "\n",
        "      x = self.random.randrange(self.grid.width)\n",
        "      y = self.random.randrange(self.grid.height)\n",
        "\n",
        "      self.grid.place_agent(agent, (x, y))\n",
        "    '''\n",
        "    self.graph1 = DataCollector(\n",
        "      model_reporters = {\"% of Resistant Bacteria\": abr_bact_last_pop}, # Defines functions that computes the data you're interested in collecting.\n",
        "      agent_reporters = {\"AB1 Resistance\": \"abr1\", \"AB2 Resistance\": \"abr2\" })\n",
        "\n",
        "    self.graph2 = DataCollector(\n",
        "      model_reporters = {\"% of Susceptible Bacteria\": susc_bact_last_pop},\n",
        "      agent_reporters = {\"AB1 Resistance\": \"abr1\", \"AB2 Resistance\": \"abr2\" })\n",
        "    '''\n",
        "\n",
        "    self.graph1 = DataCollector(\n",
        "      model_reporters = {\"Total\": abr_bact_last_pop, \"Antibiotic 1 Only\": abr1_o_bact_last_pop, \"Antibiotic 2 Only\": abr2_o_bact_last_pop, \"Antibiotic 1 & 2\": abr1_abr2_bact_last_pop}, # Defines functions that computes the data you're interested in collecting.\n",
        "      agent_reporters = {\"AB1 Resistance\": \"abr1\", \"AB2 Resistance\": \"abr2\" })\n",
        "\n",
        "    self.graph2 = DataCollector(\n",
        "      model_reporters = {\"Susceptible\": death_susc_pop, \"Antibiotic 1 Only\": death_abr1_o_pop, \"Antibiotic 2 Only\": death_abr2_o_pop, \"Antibiotic 1 & 2\": death_abr1_abr2_pop}, # Defines functions that computes the data you're interested in collecting.\n",
        "      agent_reporters = {\"AB1 Resistance\": \"abr1\", \"AB2 Resistance\": \"abr2\" })\n",
        "\n",
        "    self.graph3 = DataCollector(\n",
        "      model_reporters = {\"Susceptible\": susc_bact_last_pop, \"Antibiotic 1 Only\": abr1_o_bact_last_pop, \"Antibiotic 2 Only\": abr2_o_bact_last_pop, \"Antibiotic 1 & 2\": abr1_abr2_bact_last_pop}, # Defines functions that computes the data you're interested in collecting.\n",
        "      agent_reporters = {\"AB1 Resistance\": \"abr1\", \"AB2 Resistance\": \"abr2\" })\n",
        "\n",
        "    self.graph4 = DataCollector(\n",
        "      model_reporters = {\"% through Horizontal Gene Transfer\": change_in_resistance_hgt, \"% through Chromosomal Mutations\": change_in_resistance_chrm},\n",
        "      agent_reporters = {\"Model Population\": \"agent_pop\"})\n",
        "\n",
        "\n",
        "\n",
        "\n",
        "  def step(self): # Advances the model by one step.\n",
        "    self.graph1.collect(self)\n",
        "    self.graph2.collect(self)\n",
        "    self.graph3.collect(self)\n",
        "    self.graph4.collect(self)\n",
        "\n",
        "    self.schedule.step()\n",
        "    self.step_cntr += 1 # Counts the number of model steps that have been iterated through.\n",
        "    self.abr1_con += inc_abr1_con\n",
        "    self.abr2_con += inc_abr2_con\n",
        "    print(\"Population: {},      Death (t, a1, ar, n): {} = {} + {} + {}       Model Step: {}        ABR: {}, {}         \".format(self.population_total, self.dead_bact, self.death_abr1, self.death_abr2, self.death_ntrl, self.step_cntr, self.abr1_con, self.abr2_con))"
      ],
      "execution_count": null,
      "outputs": []
    },
    {
      "cell_type": "markdown",
      "metadata": {
        "id": "ZPJ4OXAveiIG"
      },
      "source": [
        "# Calls\n",
        "This section encompasses the different calls and parameters defined for the model."
      ]
    },
    {
      "cell_type": "markdown",
      "metadata": {
        "id": "w-ExPvpTPbVG"
      },
      "source": [
        "## Test (1)\n",
        "Randomly prints 10 agents and their qualities.\n",
        "\n",
        "<font color = \"green\">*This code is acquired.*\n",
        "\n",
        "```\n",
        "empty_model = Wastewater(10)\n",
        "empty_model.step()\n",
        "```\n",
        "\n"
      ]
    },
    {
      "cell_type": "code",
      "metadata": {
        "id": "wJP1kz90PQ0t"
      },
      "source": [
        "# Not in use right now."
      ],
      "execution_count": null,
      "outputs": []
    },
    {
      "cell_type": "markdown",
      "metadata": {
        "id": "ceSWVa2C0EY8"
      },
      "source": [
        "## Test (2)\n",
        "Prints the initial conditions of the model (no agent interactions, movement, reproduction, or death is recorded).\n",
        "\n",
        "<font color = \"green\">*This code is acquired.*\n",
        "\n",
        "\n",
        "```\n",
        "model = Wastewater(10000, 100, 100)\n",
        "for i in range(0):\n",
        "  model.step()\n",
        "```\n",
        "\n"
      ]
    },
    {
      "cell_type": "code",
      "metadata": {
        "id": "ZLz0H8k40CYQ"
      },
      "source": [
        "# Not in use right now."
      ],
      "execution_count": null,
      "outputs": []
    },
    {
      "cell_type": "markdown",
      "metadata": {
        "id": "gig-eA1ygBcy"
      },
      "source": [
        "## Test (3)\n",
        "Primary call block, running this block initiates the simulation with the given parameters.\n",
        "\n",
        "<font color = \"green\">*The first and latter half of the second block of code (lines 8-10) are acquired.*\n",
        "\n"
      ]
    },
    {
      "cell_type": "code",
      "metadata": {
        "colab": {
          "base_uri": "https://localhost:8080/"
        },
        "id": "8Hkjq8w4ua3g",
        "outputId": "6c351ab1-7362-4112-ee70-f81f725e5dc8"
      },
      "source": [
        "gpu_info = !nvidia-smi\n",
        "gpu_info = '\\n'.join(gpu_info)\n",
        "if gpu_info.find('failed') >= 0:\n",
        "  print('Select the Runtime > \"Change runtime type\" menu to enable a GPU accelerator, ')\n",
        "  print('and then re-execute this cell.')\n",
        "else:\n",
        "  print(gpu_info)"
      ],
      "execution_count": null,
      "outputs": [
        {
          "output_type": "stream",
          "text": [
            "Select the Runtime > \"Change runtime type\" menu to enable a GPU accelerator, \n",
            "and then re-execute this cell.\n"
          ],
          "name": "stdout"
        }
      ]
    },
    {
      "cell_type": "markdown",
      "source": [
        "Defines antibiotic concentration, initial bacteria population, and world size for the simulation.\n",
        "\n",
        "*   This is an additional code block, optimized to run a \"varied antibiotic concentration\" as the antibiotic concentration is not fixed, rather increasing steadily every hour.\n",
        "* Running a simulation with a fixed (stable) antibiotic concentration does not require this block, simply the rest of the program to stay intact."
      ],
      "metadata": {
        "id": "udL9UumujbD0"
      }
    },
    {
      "cell_type": "code",
      "metadata": {
        "colab": {
          "base_uri": "https://localhost:8080/"
        },
        "id": "4Z2dVT9ZqYKJ",
        "outputId": "09978ef7-91bc-41cf-bf1e-aba422e5a286"
      },
      "source": [
        "final_abr1_con = 25\n",
        "final_abr2_con = 25\n",
        "time_step = 25\n",
        "\n",
        "inc_abr1_con = final_abr1_con / time_step\n",
        "inc_abr2_con = final_abr2_con / time_step\n",
        "\n",
        "model = Wastewater(6250, 25, 25, inc_abr1_con, inc_abr2_con) # Add antibiotic concentration parameters.\n",
        "for i in range(time_step):\n",
        "  model.step()"
      ],
      "execution_count": null,
      "outputs": [
        {
          "output_type": "stream",
          "text": [
            "Population: 24494,      Death (t, a1, ar, n): 91 = 36 + 37 + 18       Model Step: 2        ABR: 2.0, 2.0         \n",
            "Population: 95866,      Death (t, a1, ar, n): 800 = 333 + 346 + 121       Model Step: 3        ABR: 3.0, 3.0         \n",
            "Population: 375125,      Death (t, a1, ar, n): 4641 = 2041 + 2117 + 483       Model Step: 4        ABR: 4.0, 4.0         \n",
            "Population: 624999,      Death (t, a1, ar, n): 24582 = 11355 + 11287 + 1940       Model Step: 5        ABR: 5.0, 5.0         \n",
            "Population: 624999,      Death (t, a1, ar, n): 64888 = 30409 + 30149 + 4330       Model Step: 6        ABR: 6.0, 6.0         \n",
            "Population: 625001,      Death (t, a1, ar, n): 112176 = 52916 + 52623 + 6637       Model Step: 7        ABR: 7.0, 7.0         \n",
            "Population: 625000,      Death (t, a1, ar, n): 165746 = 78612 + 78240 + 8894       Model Step: 8        ABR: 8.0, 8.0         \n",
            "Population: 625002,      Death (t, a1, ar, n): 225435 = 107032 + 107153 + 11250       Model Step: 9        ABR: 9.0, 9.0         \n",
            "Population: 625000,      Death (t, a1, ar, n): 291346 = 138722 + 139152 + 13472       Model Step: 10        ABR: 10.0, 10.0         \n",
            "Population: 625001,      Death (t, a1, ar, n): 363150 = 173343 + 173963 + 15844       Model Step: 11        ABR: 11.0, 11.0         \n",
            "Population: 625002,      Death (t, a1, ar, n): 440194 = 210627 + 211529 + 18038       Model Step: 12        ABR: 12.0, 12.0         \n",
            "Population: 624999,      Death (t, a1, ar, n): 522696 = 250693 + 251842 + 20161       Model Step: 13        ABR: 13.0, 13.0         \n",
            "Population: 624999,      Death (t, a1, ar, n): 610698 = 293628 + 294719 + 22351       Model Step: 14        ABR: 14.0, 14.0         \n",
            "Population: 625002,      Death (t, a1, ar, n): 703648 = 338900 + 340256 + 24492       Model Step: 15        ABR: 15.0, 15.0         \n",
            "Population: 625000,      Death (t, a1, ar, n): 801558 = 386898 + 387993 + 26667       Model Step: 16        ABR: 16.0, 16.0         \n",
            "Population: 625003,      Death (t, a1, ar, n): 904383 = 437215 + 438365 + 28803       Model Step: 17        ABR: 17.0, 17.0         \n",
            "Population: 625002,      Death (t, a1, ar, n): 1011166 = 489778 + 490507 + 30881       Model Step: 18        ABR: 18.0, 18.0         \n",
            "Population: 625001,      Death (t, a1, ar, n): 1122856 = 544455 + 545518 + 32883       Model Step: 19        ABR: 19.0, 19.0         \n",
            "Population: 625001,      Death (t, a1, ar, n): 1238589 = 601403 + 602279 + 34907       Model Step: 20        ABR: 20.0, 20.0         \n",
            "Population: 625002,      Death (t, a1, ar, n): 1359106 = 660737 + 661409 + 36960       Model Step: 21        ABR: 21.0, 21.0         \n",
            "Population: 625001,      Death (t, a1, ar, n): 1483380 = 722067 + 722397 + 38916       Model Step: 22        ABR: 22.0, 22.0         \n",
            "Population: 625002,      Death (t, a1, ar, n): 1611342 = 784806 + 785616 + 40920       Model Step: 23        ABR: 23.0, 23.0         \n",
            "Population: 625001,      Death (t, a1, ar, n): 1743367 = 849530 + 850967 + 42870       Model Step: 24        ABR: 24.0, 24.0         \n",
            "Population: 625001,      Death (t, a1, ar, n): 1879048 = 916349 + 917813 + 44886       Model Step: 25        ABR: 25.0, 25.0         \n",
            "Population: 625002,      Death (t, a1, ar, n): 2018477 = 985062 + 986537 + 46878       Model Step: 26        ABR: 26.0, 26.0         \n"
          ],
          "name": "stdout"
        }
      ]
    },
    {
      "cell_type": "markdown",
      "metadata": {
        "id": "uvPkOJLS_-8j"
      },
      "source": [
        "# Batches\n",
        "Automates the process to run the same simulation (same parameters, variables, etc.) multiple times.\n",
        "\n",
        "<font color = \"green\">*The structure of this code was acquired, but variable names are unique.*"
      ]
    },
    {
      "cell_type": "code",
      "metadata": {
        "id": "HjWa6fmO_97W",
        "colab": {
          "base_uri": "https://localhost:8080/",
          "height": 54
        },
        "outputId": "f52c560b-5b0d-49e9-b590-d9c47d314171"
      },
      "source": [
        "'''\n",
        "fixed_params = {\"width\": 100,\n",
        "               \"height\": 100}\n",
        "variable_params = {\"N\": range(10, 100, 100)}\n",
        "\n",
        "batch_run = BatchRunner(Wastewater,\n",
        "                        variable_params,\n",
        "                        fixed_params,\n",
        "                        iterations = 2,\n",
        "                        max_steps = 3,\n",
        "                        model_reporters = {\"All_Bacteria_Killed\": bact_kll_gen_all})\n",
        "batch_run.run_all()\n",
        "'''"
      ],
      "execution_count": null,
      "outputs": [
        {
          "output_type": "execute_result",
          "data": {
            "application/vnd.google.colaboratory.intrinsic+json": {
              "type": "string"
            },
            "text/plain": [
              "'\\nfixed_params = {\"width\": 100,\\n               \"height\": 100}\\nvariable_params = {\"N\": range(10, 100, 100)}\\n\\nbatch_run = BatchRunner(Wastewater,\\n                        variable_params,\\n                        fixed_params,\\n                        iterations = 2,\\n                        max_steps = 3,\\n                        model_reporters = {\"All_Bacteria_Killed\": bact_kll_gen_all})\\nbatch_run.run_all()\\n'"
            ]
          },
          "metadata": {
            "tags": []
          },
          "execution_count": 35
        }
      ]
    },
    {
      "cell_type": "code",
      "metadata": {
        "id": "uNGiMQgiAYeO",
        "colab": {
          "base_uri": "https://localhost:8080/",
          "height": 35
        },
        "outputId": "7b165e2e-8da9-4295-a045-c3692c46a82f"
      },
      "source": [
        "'''\n",
        "run_data = batch_run.get_model_vars_dataframe()\n",
        "run_data.head()\n",
        "plt.scatter(run_data.N, run_data.All_Bacteria_Killed)\n",
        "'''"
      ],
      "execution_count": null,
      "outputs": [
        {
          "output_type": "execute_result",
          "data": {
            "application/vnd.google.colaboratory.intrinsic+json": {
              "type": "string"
            },
            "text/plain": [
              "'\\nrun_data = batch_run.get_model_vars_dataframe()\\nrun_data.head()\\nplt.scatter(run_data.N, run_data.All_Bacteria_Killed)\\n'"
            ]
          },
          "metadata": {
            "tags": []
          },
          "execution_count": 36
        }
      ]
    },
    {
      "cell_type": "markdown",
      "metadata": {
        "id": "ZxUwqsdIuQrs"
      },
      "source": [
        "# Outputs"
      ]
    },
    {
      "cell_type": "markdown",
      "metadata": {
        "id": "ElJq-3U159P6"
      },
      "source": [
        "## Visualizations\n",
        "Consists of some functions to organize and visualize the data from each simulation."
      ]
    },
    {
      "cell_type": "code",
      "metadata": {
        "id": "sifo9JKir350"
      },
      "source": [
        "color_palette = [\"#FDAE33\", \"#EECC16\", \"#A4C61A\", \"#62BB35\", \"#37A862\"]"
      ],
      "execution_count": null,
      "outputs": []
    },
    {
      "cell_type": "markdown",
      "metadata": {
        "id": "YCHpQ2r-sFrJ"
      },
      "source": [
        "### Population\n",
        "This creates a grid establishing the agent distribution in the wastewater system--a snapshot of where agents are located after the simulation is complete.\n",
        "\n",
        "<font color = \"green\">*This code is acquired, apart from the values entered which are adjusted to best accomodate and format the graph.*"
      ]
    },
    {
      "cell_type": "code",
      "metadata": {
        "id": "Xf-C3CZx4cgX"
      },
      "source": [
        "import numpy as np"
      ],
      "execution_count": null,
      "outputs": []
    },
    {
      "cell_type": "code",
      "metadata": {
        "id": "-uwJQwPgHeuP"
      },
      "source": [
        "agent_counts = np.zeros((model.grid.width, model.grid.height)) # Creates an array with dimensions specified before."
      ],
      "execution_count": null,
      "outputs": []
    },
    {
      "cell_type": "code",
      "metadata": {
        "id": "w309sLTkHE4j"
      },
      "source": [
        "for patch in model.grid.coord_iter(): # Iterates over every patch in the model (as of now, 10,000 patches).\n",
        "    patch_content, x, y = patch\n",
        "    # patch_content is probably a list of everything contained in the patch, such as the bacterial agents.\n",
        "    # x, y likely refers to the patch's coordinates.\n",
        "\n",
        "    agent_count = len(patch_content) # Specifies how many agents are in patch (as it's taking the len of the list).\n",
        "    agent_counts[x][y] = agent_count # The number of agents (calculated in the line before) is specified in the numpy array."
      ],
      "execution_count": null,
      "outputs": []
    },
    {
      "cell_type": "code",
      "metadata": {
        "id": "Sh1Qc_pNbniw",
        "colab": {
          "base_uri": "https://localhost:8080/",
          "height": 642
        },
        "outputId": "1c9d37bf-b917-4fa6-ac12-64b1fbe0f201"
      },
      "source": [
        "plt.figure(figsize = (12,12))\n",
        "\n",
        "plt.title(\"Bacterial Concentration in a Wastewater System\", fontsize = 18, y = 1.02)\n",
        "\n",
        "plt.xlabel(\"x-coordinate\", fontsize = 14, labelpad = 11)\n",
        "plt.ylabel(\"y-coordinate\", fontsize = 14, labelpad = 11)\n",
        "\n",
        "plt.tick_params(labelsize = 12);\n",
        "\n",
        "image = plt.imshow(agent_counts, interpolation='nearest')\n",
        "c_bar = plt.colorbar(image, shrink = 0.82)\n",
        "\n",
        "c_bar.ax.get_yaxis().labelpad = 22\n",
        "c_bar.ax.set_ylabel(\"Number of Bacteria\", rotation = 270, fontsize = 14)\n",
        "\n",
        "plt.show()"
      ],
      "execution_count": null,
      "outputs": [
        {
          "output_type": "display_data",
          "data": {
            "image/png": "[encoded data removed]",
            "text/plain": [
              "<Figure size 864x864 with 2 Axes>"
            ]
          },
          "metadata": {
            "tags": [],
            "needs_background": "light"
          }
        }
      ]
    },
    {
      "cell_type": "markdown",
      "metadata": {
        "id": "fydUfyzBsJsy"
      },
      "source": [
        "### Time-Oriented\n",
        "<font color = \"green\">*The structure of this code was acquired, but variable names and file pathways are unique.*"
      ]
    },
    {
      "cell_type": "code",
      "metadata": {
        "id": "PxPUzK4E4-lR"
      },
      "source": [
        "import matplotlib.pyplot as plt"
      ],
      "execution_count": null,
      "outputs": []
    },
    {
      "cell_type": "code",
      "metadata": {
        "id": "AVUqSYMOKNsl",
        "colab": {
          "base_uri": "https://localhost:8080/",
          "height": 205
        },
        "outputId": "ad0af647-3be1-4c89-c56d-1cc62df7419f"
      },
      "source": [
        "graph1.head()"
      ],
      "execution_count": null,
      "outputs": [
        {
          "output_type": "execute_result",
          "data": {
            "text/html": [
              "<div>\n",
              "<style scoped>\n",
              "    .dataframe tbody tr th:only-of-type {\n",
              "        vertical-align: middle;\n",
              "    }\n",
              "\n",
              "    .dataframe tbody tr th {\n",
              "        vertical-align: top;\n",
              "    }\n",
              "\n",
              "    .dataframe thead th {\n",
              "        text-align: right;\n",
              "    }\n",
              "</style>\n",
              "<table border=\"1\" class=\"dataframe\">\n",
              "  <thead>\n",
              "    <tr style=\"text-align: right;\">\n",
              "      <th></th>\n",
              "      <th>Total</th>\n",
              "      <th>Antibiotic 1 Only</th>\n",
              "      <th>Antibiotic 2 Only</th>\n",
              "      <th>Antibiotic 1 &amp; 2</th>\n",
              "    </tr>\n",
              "  </thead>\n",
              "  <tbody>\n",
              "    <tr>\n",
              "      <th>0</th>\n",
              "      <td>7.904000</td>\n",
              "      <td>3.936000</td>\n",
              "      <td>3.808000</td>\n",
              "      <td>0.160000</td>\n",
              "    </tr>\n",
              "    <tr>\n",
              "      <th>1</th>\n",
              "      <td>5.960643</td>\n",
              "      <td>2.972156</td>\n",
              "      <td>2.845595</td>\n",
              "      <td>0.142892</td>\n",
              "    </tr>\n",
              "    <tr>\n",
              "      <th>2</th>\n",
              "      <td>4.551144</td>\n",
              "      <td>2.267749</td>\n",
              "      <td>2.173868</td>\n",
              "      <td>0.109528</td>\n",
              "    </tr>\n",
              "    <tr>\n",
              "      <th>3</th>\n",
              "      <td>3.459913</td>\n",
              "      <td>1.724758</td>\n",
              "      <td>1.653049</td>\n",
              "      <td>0.082106</td>\n",
              "    </tr>\n",
              "    <tr>\n",
              "      <th>4</th>\n",
              "      <td>3.038725</td>\n",
              "      <td>1.506722</td>\n",
              "      <td>1.465282</td>\n",
              "      <td>0.066720</td>\n",
              "    </tr>\n",
              "  </tbody>\n",
              "</table>\n",
              "</div>"
            ],
            "text/plain": [
              "      Total  Antibiotic 1 Only  Antibiotic 2 Only  Antibiotic 1 & 2\n",
              "0  7.904000           3.936000           3.808000          0.160000\n",
              "1  5.960643           2.972156           2.845595          0.142892\n",
              "2  4.551144           2.267749           2.173868          0.109528\n",
              "3  3.459913           1.724758           1.653049          0.082106\n",
              "4  3.038725           1.506722           1.465282          0.066720"
            ]
          },
          "metadata": {
            "tags": []
          },
          "execution_count": 44
        }
      ]
    },
    {
      "cell_type": "code",
      "metadata": {
        "id": "kTYjwe6hp6Qh"
      },
      "source": [
        "graph2 = model.graph2.get_model_vars_dataframe()\n",
        "graph2.head()\n",
        "\n",
        "# graph2.to_csv(\"graph2_vary_ab_low_abr.csv\")\n",
        "# !cp graph2_vary_ab_low_abr.csv \"drive/My Drive/\""
      ],
      "execution_count": null,
      "outputs": []
    },
    {
      "cell_type": "code",
      "metadata": {
        "id": "Nv-YHDEEwgNf"
      },
      "source": [
        "graph3 = model.graph3.get_model_vars_dataframe()\n",
        "graph3.head()\n",
        "\n",
        "# graph3.to_csv(\"graph3_vary_ab_low_abr.csv\")\n",
        "# !cp graph3_vary_ab_low_abr.csv \"drive/My Drive/\""
      ],
      "execution_count": null,
      "outputs": []
    },
    {
      "cell_type": "code",
      "metadata": {
        "id": "axTVzwEoQSaS"
      },
      "source": [
        "graph4 = model.graph4.get_model_vars_dataframe()\n",
        "graph4.head()\n",
        "\n",
        "# graph4.to_csv(\"graph4_vary_ab_low_abr.csv\")\n",
        "# !cp graph4_vary_ab_low_abr.csv \"drive/My Drive/\""
      ],
      "execution_count": null,
      "outputs": []
    },
    {
      "cell_type": "markdown",
      "source": [
        "### Killing Capacity"
      ],
      "metadata": {
        "id": "fwSVkBehwDOR"
      }
    },
    {
      "cell_type": "code",
      "metadata": {
        "id": "yH-V9IIW-JEg",
        "colab": {
          "base_uri": "https://localhost:8080/",
          "height": 279
        },
        "outputId": "bd14bb8f-1e8f-4c93-c3d1-7a781f85c281"
      },
      "source": [
        "import matplotlib.pyplot as plt\n",
        "\n",
        "# define list of ab concentrations\n",
        "abr_conc = range(0,4*1000)\n",
        "\n",
        "# Calculates the probability of bacterial death for a susceptible agent\n",
        "abr1_hf_kl = 49.1 # ug/ml\n",
        "prob_death_susc = []\n",
        "for abr1_con in abr_conc:\n",
        "  prob_death_susc.append((abr1_con) / (abr1_con + (abr1_hf_kl)))\n",
        "\n",
        "# Calculates the probability of bacterial death for a resistant agent\n",
        "abr1_hf_kl = 1000 # ug/ml\n",
        "prob_death_res = []\n",
        "for abr1_con in abr_conc:\n",
        "  prob_death_res.append((abr1_con) / (abr1_con + (abr1_hf_kl)))\n",
        "\n",
        "# plot results\n",
        "fig, ax = plt.subplots()\n",
        "\n",
        "susc, = ax.plot(abr_conc, prob_death_susc, 'b', label = \"Susceptible Bacteria\")\n",
        "res, = ax.plot(abr_conc, prob_death_res, 'r', label = \"Resistant Bacteria\")\n",
        "\n",
        "ax.set_xlabel(\"Antibiotic Concentration\")\n",
        "ax.set_ylabel(\"Probability of Death\")\n",
        "\n",
        "plt.show()"
      ],
      "execution_count": null,
      "outputs": [
        {
          "output_type": "display_data",
          "data": {
            "image/png": "[encoded data removed]",
            "text/plain": [
              "<Figure size 432x288 with 1 Axes>"
            ]
          },
          "metadata": {
            "tags": [],
            "needs_background": "light"
          }
        }
      ]
    },
    {
      "cell_type": "markdown",
      "metadata": {
        "id": "lMfHq_sfuGla"
      },
      "source": [
        "## Tabular\n",
        "<font color = \"green\">*The structure of this code was acquired, but variable names are unique.*"
      ]
    },
    {
      "cell_type": "code",
      "metadata": {
        "id": "8PVu1aQougn5",
        "colab": {
          "base_uri": "https://localhost:8080/",
          "height": 499
        },
        "outputId": "c4160234-b813-4682-eba7-cd96439e57b4"
      },
      "source": [
        "agent_abr1 = model.graph1.get_agent_vars_dataframe()\n",
        "agent_abr1.plot()\n",
        "agent_abr1.head()"
      ],
      "execution_count": null,
      "outputs": [
        {
          "output_type": "execute_result",
          "data": {
            "text/html": [
              "<div>\n",
              "<style scoped>\n",
              "    .dataframe tbody tr th:only-of-type {\n",
              "        vertical-align: middle;\n",
              "    }\n",
              "\n",
              "    .dataframe tbody tr th {\n",
              "        vertical-align: top;\n",
              "    }\n",
              "\n",
              "    .dataframe thead th {\n",
              "        text-align: right;\n",
              "    }\n",
              "</style>\n",
              "<table border=\"1\" class=\"dataframe\">\n",
              "  <thead>\n",
              "    <tr style=\"text-align: right;\">\n",
              "      <th></th>\n",
              "      <th></th>\n",
              "      <th>AB1 Resistance</th>\n",
              "      <th>AB2 Resistance</th>\n",
              "    </tr>\n",
              "    <tr>\n",
              "      <th>Step</th>\n",
              "      <th>AgentID</th>\n",
              "      <th></th>\n",
              "      <th></th>\n",
              "    </tr>\n",
              "  </thead>\n",
              "  <tbody>\n",
              "    <tr>\n",
              "      <th rowspan=\"5\" valign=\"top\">0</th>\n",
              "      <th>1</th>\n",
              "      <td>0</td>\n",
              "      <td>0</td>\n",
              "    </tr>\n",
              "    <tr>\n",
              "      <th>2</th>\n",
              "      <td>0</td>\n",
              "      <td>0</td>\n",
              "    </tr>\n",
              "    <tr>\n",
              "      <th>3</th>\n",
              "      <td>0</td>\n",
              "      <td>0</td>\n",
              "    </tr>\n",
              "    <tr>\n",
              "      <th>4</th>\n",
              "      <td>0</td>\n",
              "      <td>0</td>\n",
              "    </tr>\n",
              "    <tr>\n",
              "      <th>5</th>\n",
              "      <td>0</td>\n",
              "      <td>0</td>\n",
              "    </tr>\n",
              "  </tbody>\n",
              "</table>\n",
              "</div>"
            ],
            "text/plain": [
              "              AB1 Resistance  AB2 Resistance\n",
              "Step AgentID                                \n",
              "0    1                     0               0\n",
              "     2                     0               0\n",
              "     3                     0               0\n",
              "     4                     0               0\n",
              "     5                     0               0"
            ]
          },
          "metadata": {
            "tags": []
          },
          "execution_count": 48
        },
        {
          "output_type": "display_data",
          "data": {
            "image/png": "[encoded data removed]",
            "text/plain": [
              "<Figure size 432x288 with 1 Axes>"
            ]
          },
          "metadata": {
            "tags": [],
            "needs_background": "light"
          }
        }
      ]
    }
  ]
}